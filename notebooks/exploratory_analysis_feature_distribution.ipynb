{
 "cells": [
  {
   "cell_type": "code",
   "execution_count": 1,
   "metadata": {},
   "outputs": [],
   "source": [
    "import pandas as pd\n",
    "import pymysql\n",
    "from sqlalchemy import create_engine\n"
   ]
  },
  {
   "cell_type": "code",
   "execution_count": 35,
   "metadata": {},
   "outputs": [],
   "source": [
    "database_username = 'galeras'\n",
    "database_password = 'galeras234'\n",
    "database_ip       = '192.168.0.1'\n",
    "database_name     = 'galeras'\n",
    "database_port     = '6603' # replace with your port\n",
    "database_connection = create_engine('mysql+pymysql://{0}:{1}@{2}:{3}/{4}'.\n",
    "                                               format(database_username, database_password, \n",
    "                                                      database_ip, database_port, database_name))\n",
    "\n",
    "\n",
    "chunk_size = 50000\n",
    "offset = 0\n",
    "frames = []"
   ]
  },
  {
   "cell_type": "code",
   "execution_count": 36,
   "metadata": {},
   "outputs": [],
   "source": [
    "while True:\n",
    "    sql = \"SELECT * FROM repo_code_dataset LIMIT %d OFFSET %d\" % (chunk_size, offset)\n",
    "    df = pd.read_sql_query(sql, database_connection)\n",
    "    \n",
    "    if len(df) == 0:\n",
    "        break\n",
    "\n",
    "    frames.append(df)\n",
    "    offset += chunk_size\n",
    "\n"
   ]
  },
  {
   "cell_type": "code",
   "execution_count": 37,
   "metadata": {},
   "outputs": [],
   "source": [
    "# Concatenate all the dataframes in the list.\n",
    "full_df = pd.concat(frames)"
   ]
  },
  {
   "cell_type": "code",
   "execution_count": 38,
   "metadata": {},
   "outputs": [
    {
     "data": {
      "text/plain": [
       "(338615, 21)"
      ]
     },
     "execution_count": 38,
     "metadata": {},
     "output_type": "execute_result"
    }
   ],
   "source": [
    "full_df.shape"
   ]
  },
  {
   "cell_type": "code",
   "execution_count": 15,
   "metadata": {},
   "outputs": [],
   "source": [
    "keys = [\"n_ast_errors\",\"ast_levels\",\"n_whitespaces\",\"n_words\",\"vocab_size\",\"complexity\",\"nloc\",\"token_counts\",\"n_ast_nodes\",\"n_identifiers\" ]"
   ]
  },
  {
   "cell_type": "code",
   "execution_count": 11,
   "metadata": {},
   "outputs": [
    {
     "data": {
      "text/html": [
       "<div>\n",
       "<style scoped>\n",
       "    .dataframe tbody tr th:only-of-type {\n",
       "        vertical-align: middle;\n",
       "    }\n",
       "\n",
       "    .dataframe tbody tr th {\n",
       "        vertical-align: top;\n",
       "    }\n",
       "\n",
       "    .dataframe thead th {\n",
       "        text-align: right;\n",
       "    }\n",
       "</style>\n",
       "<table border=\"1\" class=\"dataframe\">\n",
       "  <thead>\n",
       "    <tr style=\"text-align: right;\">\n",
       "      <th></th>\n",
       "      <th>id</th>\n",
       "      <th>commit_id</th>\n",
       "      <th>repo</th>\n",
       "      <th>path</th>\n",
       "      <th>file_name</th>\n",
       "      <th>fun_name</th>\n",
       "      <th>commit_message</th>\n",
       "      <th>code</th>\n",
       "      <th>url</th>\n",
       "      <th>language</th>\n",
       "      <th>...</th>\n",
       "      <th>n_ast_errors</th>\n",
       "      <th>ast_levels</th>\n",
       "      <th>n_whitespaces</th>\n",
       "      <th>n_words</th>\n",
       "      <th>vocab_size</th>\n",
       "      <th>complexity</th>\n",
       "      <th>nloc</th>\n",
       "      <th>token_counts</th>\n",
       "      <th>n_ast_nodes</th>\n",
       "      <th>n_identifiers</th>\n",
       "    </tr>\n",
       "  </thead>\n",
       "  <tbody>\n",
       "    <tr>\n",
       "      <th>0</th>\n",
       "      <td>1</td>\n",
       "      <td>71899ca1e72afd7067b5fe609c69714da48a55a0</td>\n",
       "      <td>ailearning</td>\n",
       "      <td>src/py3.x/ml/16.RecommenderSystems/RS-usercf.py</td>\n",
       "      <td>RS-usercf.py</td>\n",
       "      <td>calc_user_sim</td>\n",
       "      <td>修复原来删除 nlp的内容，迁移到 docs/nlp_old 下面</td>\n",
       "      <td>def calc_user_sim(self):\\n        \\n\\n        ...</td>\n",
       "      <td>https://github.com/apachecn/ailearning.git</td>\n",
       "      <td>Python</td>\n",
       "      <td>...</td>\n",
       "      <td>0</td>\n",
       "      <td>18</td>\n",
       "      <td>954</td>\n",
       "      <td>256</td>\n",
       "      <td>119</td>\n",
       "      <td>12</td>\n",
       "      <td>36</td>\n",
       "      <td>306</td>\n",
       "      <td>511</td>\n",
       "      <td>32</td>\n",
       "    </tr>\n",
       "    <tr>\n",
       "      <th>1</th>\n",
       "      <td>2</td>\n",
       "      <td>71899ca1e72afd7067b5fe609c69714da48a55a0</td>\n",
       "      <td>ailearning</td>\n",
       "      <td>src/py3.x/ml/16.RecommenderSystems/RS-usercf.py</td>\n",
       "      <td>RS-usercf.py</td>\n",
       "      <td>recommend</td>\n",
       "      <td>修复原来删除 nlp的内容，迁移到 docs/nlp_old 下面</td>\n",
       "      <td>def recommend(self, user):\\n        \\n        ...</td>\n",
       "      <td>https://github.com/apachecn/ailearning.git</td>\n",
       "      <td>Python</td>\n",
       "      <td>...</td>\n",
       "      <td>0</td>\n",
       "      <td>12</td>\n",
       "      <td>283</td>\n",
       "      <td>70</td>\n",
       "      <td>51</td>\n",
       "      <td>4</td>\n",
       "      <td>22</td>\n",
       "      <td>131</td>\n",
       "      <td>211</td>\n",
       "      <td>22</td>\n",
       "    </tr>\n",
       "    <tr>\n",
       "      <th>2</th>\n",
       "      <td>3</td>\n",
       "      <td>71899ca1e72afd7067b5fe609c69714da48a55a0</td>\n",
       "      <td>ailearning</td>\n",
       "      <td>src/py3.x/ml/16.RecommenderSystems/RS-usercf.py</td>\n",
       "      <td>RS-usercf.py</td>\n",
       "      <td>main</td>\n",
       "      <td>修复原来删除 nlp的内容，迁移到 docs/nlp_old 下面</td>\n",
       "      <td>def main():\\n    path_root = \"/Users/jiangzl/w...</td>\n",
       "      <td>https://github.com/apachecn/ailearning.git</td>\n",
       "      <td>Python</td>\n",
       "      <td>...</td>\n",
       "      <td>0</td>\n",
       "      <td>8</td>\n",
       "      <td>78</td>\n",
       "      <td>41</td>\n",
       "      <td>28</td>\n",
       "      <td>1</td>\n",
       "      <td>6</td>\n",
       "      <td>35</td>\n",
       "      <td>82</td>\n",
       "      <td>10</td>\n",
       "    </tr>\n",
       "    <tr>\n",
       "      <th>3</th>\n",
       "      <td>4</td>\n",
       "      <td>71899ca1e72afd7067b5fe609c69714da48a55a0</td>\n",
       "      <td>ailearning</td>\n",
       "      <td>tutorials/RecommenderSystems/rs_content_demo.py</td>\n",
       "      <td>rs_content_demo.py</td>\n",
       "      <td>rs_2_cb_recommend_estimate</td>\n",
       "      <td>修复原来删除 nlp的内容，迁移到 docs/nlp_old 下面</td>\n",
       "      <td>def rs_2_cb_recommend_estimate(user_feature, i...</td>\n",
       "      <td>https://github.com/apachecn/ailearning.git</td>\n",
       "      <td>Python</td>\n",
       "      <td>...</td>\n",
       "      <td>0</td>\n",
       "      <td>11</td>\n",
       "      <td>110</td>\n",
       "      <td>56</td>\n",
       "      <td>41</td>\n",
       "      <td>1</td>\n",
       "      <td>9</td>\n",
       "      <td>97</td>\n",
       "      <td>158</td>\n",
       "      <td>20</td>\n",
       "    </tr>\n",
       "    <tr>\n",
       "      <th>4</th>\n",
       "      <td>5</td>\n",
       "      <td>71899ca1e72afd7067b5fe609c69714da48a55a0</td>\n",
       "      <td>ailearning</td>\n",
       "      <td>tutorials/RecommenderSystems/rs_content_demo.py</td>\n",
       "      <td>rs_content_demo.py</td>\n",
       "      <td>create_item2feature</td>\n",
       "      <td>修复原来删除 nlp的内容，迁移到 docs/nlp_old 下面</td>\n",
       "      <td>def create_item2feature(infile, outfile):\\n   ...</td>\n",
       "      <td>https://github.com/apachecn/ailearning.git</td>\n",
       "      <td>Python</td>\n",
       "      <td>...</td>\n",
       "      <td>0</td>\n",
       "      <td>12</td>\n",
       "      <td>85</td>\n",
       "      <td>47</td>\n",
       "      <td>37</td>\n",
       "      <td>3</td>\n",
       "      <td>19</td>\n",
       "      <td>199</td>\n",
       "      <td>182</td>\n",
       "      <td>20</td>\n",
       "    </tr>\n",
       "  </tbody>\n",
       "</table>\n",
       "<p>5 rows × 21 columns</p>\n",
       "</div>"
      ],
      "text/plain": [
       "   id                                 commit_id        repo  \\\n",
       "0   1  71899ca1e72afd7067b5fe609c69714da48a55a0  ailearning   \n",
       "1   2  71899ca1e72afd7067b5fe609c69714da48a55a0  ailearning   \n",
       "2   3  71899ca1e72afd7067b5fe609c69714da48a55a0  ailearning   \n",
       "3   4  71899ca1e72afd7067b5fe609c69714da48a55a0  ailearning   \n",
       "4   5  71899ca1e72afd7067b5fe609c69714da48a55a0  ailearning   \n",
       "\n",
       "                                              path           file_name  \\\n",
       "0  src/py3.x/ml/16.RecommenderSystems/RS-usercf.py        RS-usercf.py   \n",
       "1  src/py3.x/ml/16.RecommenderSystems/RS-usercf.py        RS-usercf.py   \n",
       "2  src/py3.x/ml/16.RecommenderSystems/RS-usercf.py        RS-usercf.py   \n",
       "3  tutorials/RecommenderSystems/rs_content_demo.py  rs_content_demo.py   \n",
       "4  tutorials/RecommenderSystems/rs_content_demo.py  rs_content_demo.py   \n",
       "\n",
       "                     fun_name                     commit_message  \\\n",
       "0               calc_user_sim  修复原来删除 nlp的内容，迁移到 docs/nlp_old 下面   \n",
       "1                   recommend  修复原来删除 nlp的内容，迁移到 docs/nlp_old 下面   \n",
       "2                        main  修复原来删除 nlp的内容，迁移到 docs/nlp_old 下面   \n",
       "3  rs_2_cb_recommend_estimate  修复原来删除 nlp的内容，迁移到 docs/nlp_old 下面   \n",
       "4         create_item2feature  修复原来删除 nlp的内容，迁移到 docs/nlp_old 下面   \n",
       "\n",
       "                                                code  \\\n",
       "0  def calc_user_sim(self):\\n        \\n\\n        ...   \n",
       "1  def recommend(self, user):\\n        \\n        ...   \n",
       "2  def main():\\n    path_root = \"/Users/jiangzl/w...   \n",
       "3  def rs_2_cb_recommend_estimate(user_feature, i...   \n",
       "4  def create_item2feature(infile, outfile):\\n   ...   \n",
       "\n",
       "                                          url language  ... n_ast_errors  \\\n",
       "0  https://github.com/apachecn/ailearning.git   Python  ...            0   \n",
       "1  https://github.com/apachecn/ailearning.git   Python  ...            0   \n",
       "2  https://github.com/apachecn/ailearning.git   Python  ...            0   \n",
       "3  https://github.com/apachecn/ailearning.git   Python  ...            0   \n",
       "4  https://github.com/apachecn/ailearning.git   Python  ...            0   \n",
       "\n",
       "   ast_levels  n_whitespaces  n_words  vocab_size  complexity  nloc  \\\n",
       "0          18            954      256         119          12    36   \n",
       "1          12            283       70          51           4    22   \n",
       "2           8             78       41          28           1     6   \n",
       "3          11            110       56          41           1     9   \n",
       "4          12             85       47          37           3    19   \n",
       "\n",
       "   token_counts  n_ast_nodes  n_identifiers  \n",
       "0           306          511             32  \n",
       "1           131          211             22  \n",
       "2            35           82             10  \n",
       "3            97          158             20  \n",
       "4           199          182             20  \n",
       "\n",
       "[5 rows x 21 columns]"
      ]
     },
     "execution_count": 11,
     "metadata": {},
     "output_type": "execute_result"
    }
   ],
   "source": [
    "full_df.head()"
   ]
  },
  {
   "cell_type": "code",
   "execution_count": 12,
   "metadata": {},
   "outputs": [],
   "source": [
    "pd.options.display.float_format = '{:.2f}'.format"
   ]
  },
  {
   "cell_type": "code",
   "execution_count": 13,
   "metadata": {},
   "outputs": [],
   "source": [
    "import matplotlib.pyplot as plt\n",
    "import seaborn as sns"
   ]
  },
  {
   "cell_type": "code",
   "execution_count": 25,
   "metadata": {},
   "outputs": [
    {
     "data": {
      "text/plain": [
       "Text(0.5, 1.0, 'Galeras dataset - Feature distribution')"
      ]
     },
     "execution_count": 25,
     "metadata": {},
     "output_type": "execute_result"
    },
    {
     "data": {
      "image/png": "[encoded data removed]",
      "text/plain": [
       "<Figure size 1500x600 with 1 Axes>"
      ]
     },
     "metadata": {},
     "output_type": "display_data"
    }
   ],
   "source": [
    "plt.figure(figsize=(15, 6)) \n",
    "sns.boxplot(data=full_df[keys], showfliers=False,palette=\"Set3\").set_title(\"Galeras dataset - Feature distribution\")"
   ]
  },
  {
   "attachments": {},
   "cell_type": "markdown",
   "metadata": {},
   "source": [
    "## Documentation dataset"
   ]
  },
  {
   "cell_type": "code",
   "execution_count": 44,
   "metadata": {},
   "outputs": [],
   "source": [
    "frames = list()\n",
    "offset=0\n",
    "while True:\n",
    "    sql = \"SELECT * FROM repo_documentation where language like 'en' LIMIT %d OFFSET %d\" % (chunk_size, offset)\n",
    "    df = pd.read_sql_query(sql, database_connection)\n",
    "    \n",
    "    if len(df) == 0:\n",
    "        break\n",
    "\n",
    "    frames.append(df)\n",
    "    offset += chunk_size\n"
   ]
  },
  {
   "cell_type": "code",
   "execution_count": 46,
   "metadata": {},
   "outputs": [],
   "source": [
    "documentation_df = pd.concat(frames)"
   ]
  },
  {
   "cell_type": "code",
   "execution_count": 47,
   "metadata": {},
   "outputs": [
    {
     "data": {
      "text/html": [
       "<div>\n",
       "<style scoped>\n",
       "    .dataframe tbody tr th:only-of-type {\n",
       "        vertical-align: middle;\n",
       "    }\n",
       "\n",
       "    .dataframe tbody tr th {\n",
       "        vertical-align: top;\n",
       "    }\n",
       "\n",
       "    .dataframe thead th {\n",
       "        text-align: right;\n",
       "    }\n",
       "</style>\n",
       "<table border=\"1\" class=\"dataframe\">\n",
       "  <thead>\n",
       "    <tr style=\"text-align: right;\">\n",
       "      <th></th>\n",
       "      <th>id</th>\n",
       "      <th>datapoint_id</th>\n",
       "      <th>docstring</th>\n",
       "      <th>n_words</th>\n",
       "      <th>vocab_size</th>\n",
       "      <th>n_whitespaces</th>\n",
       "      <th>language</th>\n",
       "    </tr>\n",
       "  </thead>\n",
       "  <tbody>\n",
       "    <tr>\n",
       "      <th>0</th>\n",
       "      <td>12</td>\n",
       "      <td>20</td>\n",
       "      <td>Return the type of protobuf object which store...</td>\n",
       "      <td>112</td>\n",
       "      <td>63</td>\n",
       "      <td>182</td>\n",
       "      <td>en</td>\n",
       "    </tr>\n",
       "    <tr>\n",
       "      <th>1</th>\n",
       "      <td>13</td>\n",
       "      <td>21</td>\n",
       "      <td>Returns a protobuf serialization of self.\\n\\n ...</td>\n",
       "      <td>68</td>\n",
       "      <td>56</td>\n",
       "      <td>150</td>\n",
       "      <td>en</td>\n",
       "    </tr>\n",
       "    <tr>\n",
       "      <th>2</th>\n",
       "      <td>14</td>\n",
       "      <td>22</td>\n",
       "      <td>Return the type of protobuf object which store...</td>\n",
       "      <td>112</td>\n",
       "      <td>63</td>\n",
       "      <td>182</td>\n",
       "      <td>en</td>\n",
       "    </tr>\n",
       "    <tr>\n",
       "      <th>3</th>\n",
       "      <td>15</td>\n",
       "      <td>24</td>\n",
       "      <td>Returns the application data of all the applic...</td>\n",
       "      <td>16</td>\n",
       "      <td>14</td>\n",
       "      <td>41</td>\n",
       "      <td>en</td>\n",
       "    </tr>\n",
       "    <tr>\n",
       "      <th>4</th>\n",
       "      <td>16</td>\n",
       "      <td>28</td>\n",
       "      <td>Returns the increment between each index for s...</td>\n",
       "      <td>8</td>\n",
       "      <td>8</td>\n",
       "      <td>7</td>\n",
       "      <td>en</td>\n",
       "    </tr>\n",
       "  </tbody>\n",
       "</table>\n",
       "</div>"
      ],
      "text/plain": [
       "   id  datapoint_id                                          docstring  \\\n",
       "0  12            20  Return the type of protobuf object which store...   \n",
       "1  13            21  Returns a protobuf serialization of self.\\n\\n ...   \n",
       "2  14            22  Return the type of protobuf object which store...   \n",
       "3  15            24  Returns the application data of all the applic...   \n",
       "4  16            28  Returns the increment between each index for s...   \n",
       "\n",
       "   n_words  vocab_size  n_whitespaces language  \n",
       "0      112          63            182       en  \n",
       "1       68          56            150       en  \n",
       "2      112          63            182       en  \n",
       "3       16          14             41       en  \n",
       "4        8           8              7       en  "
      ]
     },
     "execution_count": 47,
     "metadata": {},
     "output_type": "execute_result"
    }
   ],
   "source": [
    "documentation_df.head()"
   ]
  },
  {
   "cell_type": "code",
   "execution_count": 51,
   "metadata": {},
   "outputs": [],
   "source": [
    "doc_keys =[\"n_words\",\"vocab_size\",\"n_whitespaces\",\"language\"]"
   ]
  },
  {
   "cell_type": "code",
   "execution_count": 53,
   "metadata": {},
   "outputs": [
    {
     "data": {
      "text/plain": [
       "Text(0.5, 1.0, 'Galeras dataset - Docstring - Feature distribution')"
      ]
     },
     "execution_count": 53,
     "metadata": {},
     "output_type": "execute_result"
    },
    {
     "data": {
      "image/png": "[encoded data removed]",
      "text/plain": [
       "<Figure size 1500x600 with 1 Axes>"
      ]
     },
     "metadata": {},
     "output_type": "display_data"
    }
   ],
   "source": [
    "plt.figure(figsize=(15, 6)) \n",
    "sns.boxplot(data=documentation_df[doc_keys], showfliers=False,palette=\"Set2\").set_title(\"Galeras dataset - Docstring - Feature distribution\")"
   ]
  },
  {
   "cell_type": "code",
   "execution_count": null,
   "metadata": {},
   "outputs": [],
   "source": []
  }
 ],
 "metadata": {
  "kernelspec": {
   "display_name": "base",
   "language": "python",
   "name": "python3"
  },
  "language_info": {
   "codemirror_mode": {
    "name": "ipython",
    "version": 3
   },
   "file_extension": ".py",
   "mimetype": "text/x-python",
   "name": "python",
   "nbconvert_exporter": "python",
   "pygments_lexer": "ipython3",
   "version": "3.11.4"
  },
  "orig_nbformat": 4
 },
 "nbformat": 4,
 "nbformat_minor": 2
}
