{
 "cells": [
  {
   "cell_type": "code",
   "execution_count": null,
   "metadata": {},
   "outputs": [],
   "source": [
    "import json\n"
   ]
  },
  {
   "cell_type": "code",
   "execution_count": null,
   "metadata": {},
   "outputs": [],
   "source": [
    "json_path = '/workspaces/chat-gpt-failures/datasets/galeras_prompting/code_completion_docstring_3k_T2_deduped_tuned.json'\n",
    "with open(json_path) as json_file:\n",
    "    json_data = json.load(json_file)"
   ]
  },
  {
   "attachments": {},
   "cell_type": "markdown",
   "metadata": {},
   "source": [
    "## Fixing the dataset file to the format"
   ]
  },
  {
   "cell_type": "code",
   "execution_count": null,
   "metadata": {},
   "outputs": [],
   "source": [
    "for data in json_data:\n",
    "    prompt = {}\n",
    "    predicted = {}\n",
    "    p_template = \"Write a Python method that starts with ```{}``` , I need to complete this function. Remove comments, summary and descriptions.\"\n",
    "    p_text = p_template.format( data['random_cut'])\n",
    "    prompt['template'] = p_template\n",
    "    prompt['p_n_words'] = len(p_text.split())\n",
    "    prompt['n_whitespaces'] = p_text.count(' ')\n",
    "    prompt['vocab_size'] = len(set(p_text.split()))\n",
    "    prediction =  data[\"predicted_P2\"]\n",
    "    predicted['prediction'] = prediction\n",
    "    predicted['n_words'] = len(prediction.split())\n",
    "    predicted['n_whitespaces'] = prediction.count(' ')\n",
    "    predicted['vocab_size'] = len(set(prediction.split()))\n",
    "    data['T1'] = {'prompt':prompt, 'predicted': predicted}\n",
    "    del data[\"predicted_P2\"]"
   ]
  },
  {
   "cell_type": "code",
   "execution_count": null,
   "metadata": {},
   "outputs": [],
   "source": [
    "path = '/workspaces/chat-gpt-failures/datasets/galeras_prompting/code_completion_docstring_3k_T2_deduped_tuned.json'\n",
    "with open(path, 'w', encoding='utf-8') as f:\n",
    "    json.dump(json_data, f, ensure_ascii=False, indent=4)"
   ]
  }
 ],
 "metadata": {
  "language_info": {
   "name": "python"
  },
  "orig_nbformat": 4
 },
 "nbformat": 4,
 "nbformat_minor": 2
}
